{
 "cells": [
  {
   "cell_type": "code",
   "execution_count": 1,
   "id": "d3ecf125",
   "metadata": {},
   "outputs": [],
   "source": [
    "import numpy as np"
   ]
  },
  {
   "cell_type": "code",
   "execution_count": 16,
   "id": "a30802ff",
   "metadata": {},
   "outputs": [],
   "source": [
    "Vin = 24\n",
    "L = 200e-6\n",
    "C = 660e-6\n",
    "R = 10\n",
    "\n",
    "fs = 500e3\n",
    "T = 1/fs\n",
    "\n",
    "nDecBits = 16"
   ]
  },
  {
   "cell_type": "code",
   "execution_count": 17,
   "id": "e1063e54",
   "metadata": {},
   "outputs": [
    {
     "name": "stdout",
     "output_type": "stream",
     "text": [
      "1572864\n",
      "655\n",
      "198\n",
      "6553\n"
     ]
    }
   ],
   "source": [
    "v_code = int(24 * 2**nDecBits)\n",
    "l_code = int(T/L * 2**nDecBits)\n",
    "c_code = int(T/C * 2**nDecBits)\n",
    "r_code = int(1/R * 2**nDecBits)\n",
    "\n",
    "print(v_code)\n",
    "print(l_code)\n",
    "print(c_code)\n",
    "print(r_code)"
   ]
  },
  {
   "cell_type": "code",
   "execution_count": 4,
   "id": "65270038",
   "metadata": {},
   "outputs": [],
   "source": [
    "nDecBits = 15"
   ]
  },
  {
   "cell_type": "code",
   "execution_count": null,
   "id": "920039c9",
   "metadata": {},
   "outputs": [],
   "source": []
  }
 ],
 "metadata": {
  "kernelspec": {
   "display_name": "Python 3 (ipykernel)",
   "language": "python",
   "name": "python3"
  },
  "language_info": {
   "codemirror_mode": {
    "name": "ipython",
    "version": 3
   },
   "file_extension": ".py",
   "mimetype": "text/x-python",
   "name": "python",
   "nbconvert_exporter": "python",
   "pygments_lexer": "ipython3",
   "version": "3.10.6"
  }
 },
 "nbformat": 4,
 "nbformat_minor": 5
}
